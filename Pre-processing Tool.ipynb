{
 "cells": [
  {
   "cell_type": "markdown",
   "metadata": {},
   "source": [
    "# Pre-processing Tool\n",
    "\n",
    "The pre-processign tool can be used to pre-process an image set which is not yet organized as corpus.\n",
    "\n",
    "An image corpus itself can consist of several folders. Each folder represents a class the respective classifier will be able to recognize. Each class folder contains all images that will be used to train and test the classifier on this class. If only one class per classifier is given, a folder called negative_examples is needed as well.\n",
    "\n",
    "To get a better understanding of the layout, take a look at this sample folder hierarchy (also contained in this project):\n",
    "\n",
    "```\n",
    " ./corpus\n",
    "     /audi\n",
    "         /athree\n",
    "             3_1.jpg\n",
    "             ...\n",
    "         /afour\n",
    "             a4_1.jpg\n",
    "             ...\n",
    "     /mercedes\n",
    "         /sclass\n",
    "             sclass_1.jpg\n",
    "             ...\n",
    "         /negative_examples\n",
    "             negative_sclass_1.jpg\n",
    "             ...\n",
    "```"
   ]
  },
  {
   "cell_type": "markdown",
   "metadata": {},
   "source": [
    "# Initialization"
   ]
  },
  {
   "cell_type": "code",
   "execution_count": null,
   "metadata": {},
   "outputs": [],
   "source": [
    "# import basic libraries\n",
    "import os\n",
    "import sys\n",
    "import shutil\n",
    "\n",
    "import numpy as np\n",
    "import pandas as pd\n",
    "\n",
    "import vrtool"
   ]
  },
  {
   "cell_type": "markdown",
   "metadata": {},
   "source": [
    "# Config"
   ]
  },
  {
   "cell_type": "code",
   "execution_count": null,
   "metadata": {},
   "outputs": [],
   "source": [
    "# Excel mapping config\n",
    "MAPPING_EXCEL = './config/sample-image-mapping.xlsx' # The path to the Excel mapping file\n",
    "IMG_COL_NAME = 'IMG' # The default Excel column namecontaining the image paths\n",
    "IMG_CLASS_COL_NAME = 'IMG_CLASS' # The default Excel column name containing the image classes per image\n",
    "\n",
    "# Corpus creation settings\n",
    "IS_MULTI_CLASS = True # If set to False every image class will be used as a separate classifer, currently limited to True\n",
    "CLASSIFIER_NAME = 's_class' # Only needs to be provided if multiclass is set to True\n",
    "\n",
    "# Default folder structures\n",
    "CORPUS_ROOT = './corpus'\n",
    "IMG_DUMP_ROOT = './image_dump'"
   ]
  },
  {
   "cell_type": "markdown",
   "metadata": {},
   "source": [
    "# Corpus Creation from Image Dump and Mapping File "
   ]
  },
  {
   "cell_type": "code",
   "execution_count": null,
   "metadata": {},
   "outputs": [],
   "source": [
    "# Load Excel which contains image to class mappings\n",
    "df = pd.read_excel(MAPPING_EXCEL)\n",
    "df.head(5)"
   ]
  },
  {
   "cell_type": "code",
   "execution_count": null,
   "metadata": {},
   "outputs": [],
   "source": [
    "# Create corpus folder and add class subfolders\n",
    "class_names = df[IMG_CLASS_COL_NAME].unique()\n",
    "if IS_MULTI_CLASS:\n",
    "    for class_name in class_names:\n",
    "        try:\n",
    "            folder = os.path.join(CORPUS_ROOT, CLASSIFIER_NAME, class_name)\n",
    "            os.makedirs(folder)\n",
    "        except FileExistsError:\n",
    "            print(\"ERROR: Folder {} exist, please delete them before recreating.\".format(folder))"
   ]
  },
  {
   "cell_type": "code",
   "execution_count": null,
   "metadata": {},
   "outputs": [],
   "source": [
    "KEEP_OLD_IMAGES = True\n",
    "\n",
    "def move_img(src_image_name, class_name, keep_old_img=True):\n",
    "    src_img_path = os.path.join(IMG_DUMP_ROOT, src_image_name)\n",
    "    target_img_path = os.path.join(CORPUS_ROOT, CLASSIFIER_NAME, class_name, src_image_name)\n",
    "    \n",
    "    if keep_old_img:\n",
    "        shutil.copyfile(src_img_path, target_img_path)\n",
    "    else:\n",
    "        shutil.move(src_img_path, target_img_path)\n",
    "    \n",
    "\n",
    "if IS_MULTI_CLASS:\n",
    "    for __, row in df.iterrows():\n",
    "        img_name = row[IMG_COL_NAME]\n",
    "        img_class = row[IMG_CLASS_COL_NAME]\n",
    "        move_img(img_name, img_class, KEEP_OLD_IMAGES)"
   ]
  },
  {
   "cell_type": "code",
   "execution_count": null,
   "metadata": {},
   "outputs": [],
   "source": [
    "def remove_empty_folders(corpus_path):\n",
    "    for dirpath, dirnames, files in os.walk(corpus_path):\n",
    "        if not files:\n",
    "            os.rmdir(dirpath)\n",
    "            \n",
    "target_corpus = os.path.join(CORPUS_ROOT, CLASSIFIER_NAME)\n",
    "remove_empty_folders(target_corpus)"
   ]
  },
  {
   "cell_type": "markdown",
   "metadata": {},
   "source": [
    "# Corpora Overview"
   ]
  },
  {
   "cell_type": "code",
   "execution_count": null,
   "metadata": {},
   "outputs": [],
   "source": [
    "# The name of the folder that contains the corpora, currently relative to notebook location\n",
    "corpora_folder_name = '../corpus'\n",
    "config_name = 'config.ini'\n",
    "\n",
    "runner = vrtool.Runner(config_name, corpora_folder_name)\n",
    "corpora = runner.get_available_corpora()\n",
    "\n",
    "# Print a summary of the available corpora in the corpora directory\n",
    "print('\\nAvailable image corpora:')\n",
    "print('\\n'.join('{}: {}'.format(*el) for el in enumerate(corpora)))\n",
    "print()\n",
    "\n",
    "for corpus_name, corpus_dir in corpora:\n",
    "    if(not \"negative\" in corpus_name):\n",
    "        imgs = corpus_dir.get_all_class_images()\n",
    "        image_info = pd.DataFrame(imgs)\n",
    "        try:\n",
    "            print('---------------------------------')\n",
    "            print(\"Corpus:\",corpus_name)\n",
    "            print(image_info.class_name.value_counts())\n",
    "        except:\n",
    "            pass"
   ]
  },
  {
   "cell_type": "markdown",
   "metadata": {},
   "source": []
  }
 ],
 "metadata": {
  "kernelspec": {
   "display_name": "Python 3",
   "language": "python",
   "name": "python3"
  },
  "language_info": {
   "codemirror_mode": {
    "name": "ipython",
    "version": 3
   },
   "file_extension": ".py",
   "mimetype": "text/x-python",
   "name": "python",
   "nbconvert_exporter": "python",
   "pygments_lexer": "ipython3",
   "version": "3.6.8"
  }
 },
 "nbformat": 4,
 "nbformat_minor": 2
}
