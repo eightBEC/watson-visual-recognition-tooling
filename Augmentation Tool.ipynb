{
 "cells": [
  {
   "cell_type": "markdown",
   "metadata": {},
   "source": [
    "# Augmentation Tool\n",
    "\n",
    "The augmentation tool can be used to augment an image set organized as corpus within a set of corpora.\n",
    "\n",
    "An image corpus itself can consist of several folders. Each folder represents a class the respective classifier will be able to recognize. Each class folder contains all images that will be used to train and test the classifier on this class. If only one class per classifier is given, a folder called negative_examples is needed as well.\n",
    "\n",
    "To get a better understanding of the layout, take a look at this sample folder hierarchy (also contained in this project):\n",
    "\n",
    "```\n",
    " ./corpus\n",
    "     /audi\n",
    "         /athree\n",
    "             3_1.jpg\n",
    "             ...\n",
    "         /afour\n",
    "             a4_1.jpg\n",
    "             ...\n",
    "     /mercedes\n",
    "         /sclass\n",
    "             sclass_1.jpg\n",
    "             ...\n",
    "         /negative_examples\n",
    "             negative_sclass_1.jpg\n",
    "             ...\n",
    "```"
   ]
  },
  {
   "cell_type": "markdown",
   "metadata": {},
   "source": [
    "# Initialization"
   ]
  },
  {
   "cell_type": "code",
   "execution_count": null,
   "metadata": {},
   "outputs": [],
   "source": [
    "# import basic libraries\n",
    "import numpy as np\n",
    "import pandas as pd\n",
    "import os\n",
    "import sys\n",
    "\n",
    "import vrtool"
   ]
  },
  {
   "cell_type": "markdown",
   "metadata": {},
   "source": [
    "# Corpora Overview"
   ]
  },
  {
   "cell_type": "code",
   "execution_count": null,
   "metadata": {},
   "outputs": [],
   "source": [
    "# The name of the folder that contains the corpora, currently relative to notebook location\n",
    "corpora_folder_name = '../corpus'\n",
    "config_name = 'config.ini'\n",
    "\n",
    "runner = vrtool.Runner(corpora_folder_name, config_name)\n",
    "corpora = runner.get_available_corpora()\n",
    "\n",
    "# Print a summary of the available corpora in the corpora directory\n",
    "print('\\nAvailable image corpora:')\n",
    "print('\\n'.join('{}: {}'.format(*el) for el in enumerate(corpora)))\n",
    "print()\n",
    "\n",
    "for corpus_name, corpus_dir in corpora:\n",
    "    if(not \"negative\" in corpus_name):\n",
    "        imgs = corpus_dir.get_all_class_images()\n",
    "        image_info = pd.DataFrame(imgs)\n",
    "        try:\n",
    "            print('---------------------------------')\n",
    "            print(\"Corpus:\",corpus_name)\n",
    "            print(image_info.class_name.value_counts())\n",
    "        except:\n",
    "            pass"
   ]
  },
  {
   "cell_type": "markdown",
   "metadata": {},
   "source": [
    "# Augmentation Corpus Configuration\n",
    "The **AUGMENTATION_CORPUS_NAME** defines the corpus that will be augmented.\n",
    "The augmentation pipeline performs the following tasks: \n",
    "- mirror image, \n",
    "- rotate left, \n",
    "- rotate right\n",
    "\n",
    "If a class contains less than **MIN_IMAGE_COUNT** images, it will be augmented\n",
    "\n",
    "The **DEGREE** constant defined the absolute angle that will be used for rotation."
   ]
  },
  {
   "cell_type": "code",
   "execution_count": null,
   "metadata": {},
   "outputs": [],
   "source": [
    "# The name of the corpus to be augmented\n",
    "AUGMENTATION_CORPUS_NAME = \"mercedes\"\n",
    "# The rotation angle (postive and negative) \n",
    "DEGREE = 10\n",
    "# If a subclass contains less than min_image_count it will be augmented \n",
    "MIN_IMAGE_COUNT = 50\n",
    "\n",
    "# Iterate through all images in corpus folder and perform image augmentation\n",
    "corpora_info = []\n",
    "for corpus_name, corpus_dir in corpora:\n",
    "    if(not \"negative\" in corpus_name):\n",
    "        imgs = corpus_dir.get_all_class_images()\n",
    "        image_info = pd.DataFrame(imgs)\n",
    "        corpora_info.append({'corpus_name': corpus_name, 'corpus_dir': corpus_dir, 'image_info':image_info })\n",
    "        try:\n",
    "            if (corpus_name == AUGMENTATION_CORPUS_NAME):\n",
    "                # Rotate images - x°, + x° and mirror them if the corpus contains less than y images\n",
    "                runner.duplicate_all(corpus_dir, DEGREE, MIN_IMAGE_COUNT)\n",
    "                print('---- Before Augmentation -----------------------------')\n",
    "                print(\"Corpus:\",corpus_name)\n",
    "                print(image_info.class_name.value_counts())\n",
    "                \n",
    "                imgs = corpus_dir.get_all_class_images()\n",
    "                image_info = pd.DataFrame(imgs)\n",
    "                print('---- After Augmentation ------------------------------')\n",
    "                print(\"Corpus:\",corpus_name)\n",
    "                print(image_info.class_name.value_counts())\n",
    "            \n",
    "        except AttributeError:\n",
    "            pass   "
   ]
  },
  {
   "cell_type": "code",
   "execution_count": null,
   "metadata": {},
   "outputs": [],
   "source": []
  }
 ],
 "metadata": {
  "kernelspec": {
   "display_name": "Python 3",
   "language": "python",
   "name": "python3"
  },
  "language_info": {
   "codemirror_mode": {
    "name": "ipython",
    "version": 3
   },
   "file_extension": ".py",
   "mimetype": "text/x-python",
   "name": "python",
   "nbconvert_exporter": "python",
   "pygments_lexer": "ipython3",
   "version": "3.6.8"
  }
 },
 "nbformat": 4,
 "nbformat_minor": 2
}
