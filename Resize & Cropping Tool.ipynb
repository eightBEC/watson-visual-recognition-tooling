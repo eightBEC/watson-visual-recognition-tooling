{
 "cells": [
  {
   "cell_type": "markdown",
   "metadata": {},
   "source": [
    "# Resize & Cropping Tool\n",
    "\n",
    "The cropping tool can be used to batch crop an image set organized as corpus within a set of corpora.\n",
    "\n",
    "An image corpus itself can consist of several folders. Each folder represents a class the respective classifier will be able to recognize. Each class folder contains all images that will be used to train and test the classifier on this class. If only one class per classifier is given, a folder called negative_examples is needed as well.\n",
    "\n",
    "This is the expected folder hierarchy:\n",
    "```\n",
    " ./corpora_folder_cars\n",
    "     /bmw_corpus\n",
    "         /three\n",
    "             320.jpg\n",
    "             330.jpg\n",
    "         /five\n",
    "             530.jpg\n",
    "             550.jpg\n",
    "         /seven\n",
    "             750.jpg\n",
    "             760.jpg\n",
    "     /audi_corpus\n",
    "         /athree\n",
    "             a3.jpg\n",
    "         /afour\n",
    "             a4.jpg\n",
    "     /mercedes_corpus\n",
    "         /sclass\n",
    "             s500.jpg\n",
    "         /negative_examples\n",
    "             eclass.jpg\n",
    "```"
   ]
  },
  {
   "cell_type": "markdown",
   "metadata": {},
   "source": [
    "# Initialization"
   ]
  },
  {
   "cell_type": "code",
   "execution_count": null,
   "metadata": {},
   "outputs": [],
   "source": [
    "# import basic libraries\n",
    "import numpy as np\n",
    "import pandas as pd\n",
    "import os\n",
    "import sys\n",
    "import PIL\n",
    "\n",
    "from PIL import Image\n",
    "\n",
    "import vrtool"
   ]
  },
  {
   "cell_type": "markdown",
   "metadata": {},
   "source": [
    "# Corpora Overview"
   ]
  },
  {
   "cell_type": "code",
   "execution_count": null,
   "metadata": {},
   "outputs": [],
   "source": [
    "# name of the folder that contains the corpora\n",
    "corpora_folder_name = '../corpus'\n",
    "runner = vrtool.Runner(corpora_folder_name, config_name=\"config.ini\")\n",
    "corpora = runner.get_available_corpora()\n",
    "\n",
    "# Print a summary of the available corpora in the corpora directory\n",
    "print('Available image corpora:')\n",
    "print('\\n'.join('{}: {}'.format(*el) for el in enumerate(corpora)))\n",
    "\n"
   ]
  },
  {
   "cell_type": "code",
   "execution_count": null,
   "metadata": {
    "scrolled": true
   },
   "outputs": [],
   "source": [
    "# Print a detailed overview of the different classes and their distribution\n",
    "corpora_info = []\n",
    "for corpus_name, corpus_dir in corpora:\n",
    "    if(not \"negative\" in corpus_name):\n",
    "        imgs = corpus_dir.get_all_class_images()\n",
    "        negatives = corpus_dir.get_negative_example_images()\n",
    "        image_info = pd.DataFrame(imgs)\n",
    "        negative_examples = pd.DataFrame(negatives)\n",
    "        corpora_info.append({'corpus_name': corpus_name, 'corpus_dir': corpus_dir, 'image_info':image_info, 'negative_examples': negative_examples })\n",
    "        try:\n",
    "            print('--------------------------------------------------------------------')\n",
    "            print(\"Corpus:\",corpus_name)\n",
    "            print(image_info.class_name.value_counts())\n",
    "            print(\"Negative Examples:\",negative_examples.shape[0])\n",
    "        except AttributeError:\n",
    "            pass\n"
   ]
  },
  {
   "cell_type": "markdown",
   "metadata": {},
   "source": [
    "# Crop / Resize Corpus"
   ]
  },
  {
   "cell_type": "markdown",
   "metadata": {},
   "source": [
    "## Corpus Selection"
   ]
  },
  {
   "cell_type": "code",
   "execution_count": null,
   "metadata": {},
   "outputs": [],
   "source": [
    "corpus_to_manipulate = 'CORPUS_NAME'\n",
    "\n",
    "img_info = [el['image_info'] for el in corpora_info if el['corpus_name'] == corpus_to_manipulate ][0]\n",
    "\n",
    "print(\"Corpus to crop or resize:\", corpus_to_manipulate)\n",
    "print(img_info.class_name.value_counts())"
   ]
  },
  {
   "cell_type": "markdown",
   "metadata": {},
   "source": [
    "## Resize\n",
    "**! Before using this tool make sure to backup your current corpus. This method is replacing your images!**"
   ]
  },
  {
   "cell_type": "code",
   "execution_count": null,
   "metadata": {},
   "outputs": [],
   "source": [
    "#target_width = 400\n",
    "\n",
    "#for index, row in img_info.iterrows():\n",
    "#    image_path = row['image']\n",
    "#    img = Image.open(image_path)\n",
    "#    wpercent = (target_width/float(img.size[0]))\n",
    "#    hsize = int((float(img.size[1])*float(wpercent)))\n",
    "#    img = img.resize((target_width,hsize), PIL.Image.ANTIALIAS)\n",
    "#    img.save(image_path)"
   ]
  },
  {
   "cell_type": "markdown",
   "metadata": {},
   "source": [
    "## Crop\n",
    "\n",
    "**! Before using this tool make sure to backup your current corpus. This method is replacing your images!**"
   ]
  },
  {
   "cell_type": "code",
   "execution_count": null,
   "metadata": {},
   "outputs": [],
   "source": [
    "# coord = (left,upper,right,lower)\n",
    "#coords = (0,100,300,400)\n",
    "#for index, row in img_info.iterrows():\n",
    "#    image_path = row['image']\n",
    "#    image_obj = Image.open(image_path)\n",
    "#    cropped_image = image_obj.crop(coords)\n",
    "#    cropped_image.save(image_path)\n",
    "#    #cropped_image.show()"
   ]
  }
 ],
 "metadata": {
  "kernelspec": {
   "display_name": "Python 3",
   "language": "python",
   "name": "python3"
  },
  "language_info": {
   "codemirror_mode": {
    "name": "ipython",
    "version": 3
   },
   "file_extension": ".py",
   "mimetype": "text/x-python",
   "name": "python",
   "nbconvert_exporter": "python",
   "pygments_lexer": "ipython3",
   "version": "3.6.8"
  }
 },
 "nbformat": 4,
 "nbformat_minor": 2
}
